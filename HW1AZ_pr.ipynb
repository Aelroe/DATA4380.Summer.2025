{
 "cells": [
  {
   "cell_type": "markdown",
   "id": "800d017c",
   "metadata": {},
   "source": [
    "### Exercise 1: Organize Dataset Directory\n",
    "\n",
    "I created a new directory to store ZIP files and moved any existing `.zip` files into that folder using the commands below. If no ZIP files were found, the move command did nothing."
   ]
  },
  {
   "cell_type": "code",
   "execution_count": null,
   "id": "2b797d66",
   "metadata": {},
   "outputs": [],
   "source": [
    "!mkdir -p ~/Documents/DataProblems/original_zips\n",
    "!mv ~/Documents/DataProblems/*.zip ~/Documents/DataProblems/original_zips/"
   ]
  },
  {
   "cell_type": "markdown",
   "id": "36857200",
   "metadata": {},
   "source": [
    "### Exercise 2: Split `diabetes_prediction_dataset.csv` into 3 parts\n",
    "\n",
    "I used `head`, `tail`, `wc`, and redirection operators to split the file into 3 parts. Each file includes the header row and roughly 1/3 of the data."
   ]
  },
  {
   "cell_type": "code",
   "execution_count": 6,
   "id": "aa3bbf5a",
   "metadata": {},
   "outputs": [
    {
     "name": "stdout",
     "output_type": "stream",
     "text": [
      "tail: stdout: Broken pipe\n",
      "tail: stdout: Broken pipe\n"
     ]
    }
   ],
   "source": [
    "!head -n 1 ~/Documents/DataProblems/diabetes_prediction_dataset.csv > part1.csv\n",
    "!head -n 1 ~/Documents/DataProblems/diabetes_prediction_dataset.csv > part2.csv\n",
    "!head -n 1 ~/Documents/DataProblems/diabetes_prediction_dataset.csv > part3.csv\n",
    "\n",
    "# First 33333 rows\n",
    "!tail -n +2 ~/Documents/DataProblems/diabetes_prediction_dataset.csv | head -n 33333 >> part1.csv\n",
    "\n",
    "# Next 33333 rows (skip first 33333)\n",
    "!tail -n +33335 ~/Documents/DataProblems/diabetes_prediction_dataset.csv | head -n 33333 >> part2.csv\n",
    "\n",
    "!tail -n +66668 ~/Documents/DataProblems/diabetes_prediction_dataset.csv >> part3.csv"
   ]
  },
  {
   "cell_type": "code",
   "execution_count": 7,
   "id": "5f039417",
   "metadata": {},
   "outputs": [
    {
     "name": "stdout",
     "output_type": "stream",
     "text": [
      "   33334 part1.csv\n",
      "   33334 part2.csv\n",
      "   33335 part3.csv\n"
     ]
    }
   ],
   "source": [
    "!wc -l part1.csv\n",
    "!wc -l part2.csv\n",
    "!wc -l part3.csv"
   ]
  },
  {
   "cell_type": "markdown",
   "id": "e4afcdd2",
   "metadata": {},
   "source": [
    "### Exercise 3: Split `Heart_Disease_Prediction.csv` by Label\n",
    "\n",
    "I created two new files: one containing rows with `\"Presence\"` and one with `\"Absence\"`. Each file includes the header row."
   ]
  },
  {
   "cell_type": "code",
   "execution_count": 9,
   "id": "09d75341",
   "metadata": {},
   "outputs": [],
   "source": [
    "!head -n 1 ~/Documents/DataProblems/Heart_Disease_Prediction.csv > presence.csv\n",
    "!head -n 1 ~/Documents/DataProblems/Heart_Disease_Prediction.csv > absence.csv\n",
    "\n",
    "# Append matching rows\n",
    "!grep \"Presence\" ~/Documents/DataProblems/Heart_Disease_Prediction.csv >> presence.csv\n",
    "!grep \"Absence\" ~/Documents/DataProblems/Heart_Disease_Prediction.csv >> absence.csv"
   ]
  },
  {
   "cell_type": "code",
   "execution_count": 10,
   "id": "4b014b4c",
   "metadata": {},
   "outputs": [
    {
     "name": "stdout",
     "output_type": "stream",
     "text": [
      "     121 presence.csv\n",
      "     151 absence.csv\n"
     ]
    }
   ],
   "source": [
    "!wc -l presence.csv\n",
    "!wc -l absence.csv"
   ]
  },
  {
   "cell_type": "markdown",
   "id": "3e3b19cc",
   "metadata": {},
   "source": [
    "### Exercise 4: Fraction of Cars with No Accidents\n",
    "\n",
    "I used `grep` and `wc -l` to count how many cars had `\"no accidents\"` and divided by the total number of rows (excluding the header)."
   ]
  },
  {
   "cell_type": "code",
   "execution_count": 11,
   "id": "7f350bbc",
   "metadata": {},
   "outputs": [
    {
     "name": "stdout",
     "output_type": "stream",
     "text": [
      "    2223\n",
      "    2840\n"
     ]
    }
   ],
   "source": [
    "!grep -i \"no accident\" ~/Documents/DataProblems/car_web_scraped_dataset.csv | wc -l\n",
    "\n",
    "# Count total number of records (excluding header)\n",
    "!tail -n +2 ~/Documents/DataProblems/car_web_scraped_dataset.csv | wc -l"
   ]
  },
  {
   "cell_type": "markdown",
   "id": "605ae1b8",
   "metadata": {},
   "source": [
    "### Exercise 5: Value Replacement in `Housing.csv`\n",
    "\n",
    "I used `sed` with pipes to replace string values in the dataset and saved the result to a new file `Housing_Cleaned.csv`."
   ]
  },
  {
   "cell_type": "code",
   "execution_count": 12,
   "id": "49ac0daa",
   "metadata": {},
   "outputs": [],
   "source": [
    "!cat ~/Documents/DataProblems/Housing.csv \\\n",
    "| sed 's/yes/1/g' \\\n",
    "| sed 's/no/0/g' \\\n",
    "| sed 's/semi-furnished/2/g' \\\n",
    "| sed 's/unfurnished/0/g' \\\n",
    "| sed 's/,furnished/,1/g' \\\n",
    "> Housing_Cleaned.csv"
   ]
  },
  {
   "cell_type": "code",
   "execution_count": 13,
   "id": "3435c8ca",
   "metadata": {},
   "outputs": [
    {
     "name": "stdout",
     "output_type": "stream",
     "text": [
      "price,area,bedrooms,bathrooms,stories,mainroad,guestroom,basement,hotwaterheating,airconditioning,parking,prefarea,furnishingstatus\r",
      "\r\n",
      "13300000,7420,4,2,3,1,0,0,0,1,2,1,1\r",
      "\r\n",
      "12250000,8960,4,4,4,1,0,0,0,1,3,0,1\r",
      "\r\n",
      "12250000,9960,3,2,2,1,0,1,0,0,2,1,2\r",
      "\r\n",
      "12215000,7500,4,2,2,1,0,1,0,1,3,1,1\r",
      "\r\n",
      "11410000,7420,4,1,2,1,1,1,0,1,2,0,1\r",
      "\r\n",
      "10850000,7500,3,3,1,1,0,1,0,1,2,1,2\r",
      "\r\n",
      "10150000,8580,4,3,4,1,0,0,0,1,2,1,2\r",
      "\r\n",
      "10150000,16200,5,3,2,1,0,0,0,0,0,0,0\r",
      "\r\n",
      "9870000,8100,4,1,2,1,1,1,0,1,2,1,1\r",
      "\r\n"
     ]
    }
   ],
   "source": [
    "!head -n 10 Housing_Cleaned.csv"
   ]
  },
  {
   "cell_type": "markdown",
   "id": "181349c3",
   "metadata": {},
   "source": [
    "### Exercise 6: Remove \"CustomerID\" from `Mall_Customers.csv`\n",
    "\n",
    "I used the `cut` command to remove the first column (CustomerID) and saved the result as `Mall_Customers_Cleaned.csv`."
   ]
  },
  {
   "cell_type": "code",
   "execution_count": 14,
   "id": "09cfb88a",
   "metadata": {},
   "outputs": [],
   "source": [
    "!cut -d ',' -f2- ~/Documents/DataProblems/Mall_Customers.csv > Mall_Customers_Cleaned.csv"
   ]
  },
  {
   "cell_type": "code",
   "execution_count": 15,
   "id": "141e410a",
   "metadata": {},
   "outputs": [
    {
     "name": "stdout",
     "output_type": "stream",
     "text": [
      "Gender,Age,Annual Income (k$),Spending Score (1-100)\r",
      "\r\n",
      "Male,19,15,39\r",
      "\r\n",
      "Male,21,15,81\r",
      "\r\n",
      "Female,20,16,6\r",
      "\r\n",
      "Female,23,16,77\r",
      "\r\n"
     ]
    }
   ],
   "source": [
    "!head -n 5 Mall_Customers_Cleaned.csv"
   ]
  },
  {
   "cell_type": "code",
   "execution_count": 16,
   "id": "98d334df",
   "metadata": {},
   "outputs": [
    {
     "name": "stdout",
     "output_type": "stream",
     "text": [
      "rank,ranking-institution-title,location,Overall scores,Research Quality Score,Industry Score,International Outlook,Research Environment Score,Teaching Score\r",
      "\r\n"
     ]
    }
   ],
   "source": [
    "!head -n 1 ~/Documents/DataProblems/world\\ all\\ university\\ rank\\ and\\ rank\\ score.csv"
   ]
  },
  {
   "cell_type": "markdown",
   "id": "d09a5cd6",
   "metadata": {},
   "source": [
    "### Exercise 7: Sum Score Columns\n",
    "\n",
    "I used `cut`, `tr`, and `bc` to extract 4 score columns and calculate their row-wise sum. The result is saved in `University_Score_Sum.csv`."
   ]
  },
  {
   "cell_type": "code",
   "execution_count": 20,
   "id": "9d5dce78",
   "metadata": {},
   "outputs": [],
   "source": [
    "!tail -n +2 ~/Documents/DataProblems/world\\ all\\ university\\ rank\\ and\\ rank\\ score.csv \\\n",
    "| cut -d ',' -f5,6,7,8 \\\n",
    "| tr -d '\\r' \\\n",
    "| grep -E '^[0-9]+(\\.[0-9]+)?,[0-9]+(\\.[0-9]+)?,[0-9]+(\\.[0-9]+)?,[0-9]+(\\.[0-9]+)?$' \\\n",
    "| tr ',' '+' \\\n",
    "| bc > University_Score_Sum.csv"
   ]
  },
  {
   "cell_type": "code",
   "execution_count": 21,
   "id": "ff3c647c",
   "metadata": {},
   "outputs": [
    {
     "name": "stdout",
     "output_type": "stream",
     "text": [
      "378.2\r\n",
      "367.2\r\n",
      "340.5\r\n",
      "361.2\r\n",
      "353.3\r\n",
      "363.0\r\n",
      "335.9\r\n",
      "354.9\r\n",
      "329.1\r\n",
      "355.7\r\n"
     ]
    }
   ],
   "source": [
    "!head University_Score_Sum.csv"
   ]
  },
  {
   "cell_type": "markdown",
   "id": "81d86441",
   "metadata": {},
   "source": [
    "### Exercise 8: Sort `cancer patient data sets.csv` by Age\n",
    "\n",
    "I sorted the file by the \"Age\" column (column 3) using `sort` with `-t','`, `-k3`, and `-n`. The result is saved in `Cancer_Sorted.csv`."
   ]
  },
  {
   "cell_type": "code",
   "execution_count": 23,
   "id": "7204c8f4",
   "metadata": {},
   "outputs": [],
   "source": [
    "!head -n 1 ~/Documents/DataProblems/cancer\\ patient\\ data\\ sets.csv > Cancer_Sorted.csv\n",
    "\n",
    "# Sort remaining rows by Age (3rd column) and append to output\n",
    "!tail -n +2 ~/Documents/DataProblems/cancer\\ patient\\ data\\ sets.csv \\\n",
    "| sort -t',' -k3 -n >> Cancer_Sorted.csv"
   ]
  },
  {
   "cell_type": "code",
   "execution_count": 24,
   "id": "fdc06696",
   "metadata": {},
   "outputs": [
    {
     "name": "stdout",
     "output_type": "stream",
     "text": [
      "index,Patient Id,Age,Gender,Air Pollution,Alcohol use,Dust Allergy,OccuPational Hazards,Genetic Risk,chronic Lung Disease,Balanced Diet,Obesity,Smoking,Passive Smoker,Chest Pain,Coughing of Blood,Fatigue,Weight Loss,Shortness of Breath,Wheezing,Swallowing Difficulty,Clubbing of Finger Nails,Frequent Cold,Dry Cough,Snoring,Level\r\n",
      "130,P215,14,1,2,4,5,6,5,5,4,6,5,4,6,5,5,3,2,1,4,7,2,1,6,Medium\r\n",
      "19,P115,14,1,2,4,5,6,5,5,4,6,5,4,6,5,5,3,2,1,4,7,2,1,6,Medium\r\n",
      "241,P315,14,1,2,4,5,6,5,5,4,6,5,4,6,5,5,3,2,1,4,7,2,1,6,Medium\r\n",
      "35,P13,14,1,2,4,5,6,5,5,4,6,5,4,6,5,5,3,2,1,4,7,2,1,6,Medium\r\n",
      "352,P415,14,1,2,4,5,6,5,5,4,6,5,4,6,5,5,3,2,1,4,7,2,1,6,Medium\r\n",
      "574,P615,14,1,2,4,5,6,5,5,4,6,5,4,6,5,5,3,2,1,4,7,2,1,6,Medium\r\n",
      "685,P715,14,1,2,4,5,6,5,5,4,6,5,4,6,5,5,3,2,1,4,7,2,1,6,Medium\r\n",
      "796,P815,14,1,2,4,5,6,5,5,4,6,5,4,6,5,5,3,2,1,4,7,2,1,6,Medium\r\n",
      "907,P915,14,1,2,4,5,6,5,5,4,6,5,4,6,5,5,3,2,1,4,7,2,1,6,Medium\r\n"
     ]
    }
   ],
   "source": [
    "!head Cancer_Sorted.csv"
   ]
  }
 ],
 "metadata": {
  "kernelspec": {
   "display_name": "Python 3 (ipykernel)",
   "language": "python",
   "name": "python3"
  },
  "language_info": {
   "codemirror_mode": {
    "name": "ipython",
    "version": 3
   },
   "file_extension": ".py",
   "mimetype": "text/x-python",
   "name": "python",
   "nbconvert_exporter": "python",
   "pygments_lexer": "ipython3",
   "version": "3.11.5"
  }
 },
 "nbformat": 4,
 "nbformat_minor": 5
}
